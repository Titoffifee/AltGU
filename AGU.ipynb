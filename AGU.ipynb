{
  "cells": [
    {
      "cell_type": "markdown",
      "metadata": {
        "id": "view-in-github",
        "colab_type": "text"
      },
      "source": [
        "<a href=\"https://colab.research.google.com/github/Titoffifee/AltGU/blob/main/AGU.ipynb\" target=\"_parent\"><img src=\"https://colab.research.google.com/assets/colab-badge.svg\" alt=\"Open In Colab\"/></a>"
      ]
    },
    {
      "cell_type": "code",
      "execution_count": null,
      "metadata": {
        "id": "fQMQGkTohVJx"
      },
      "outputs": [],
      "source": [
        "!pip install catboost\n",
        "!pip install pymorphy2\n",
        "!pip install scipy"
      ]
    },
    {
      "cell_type": "code",
      "execution_count": null,
      "metadata": {
        "id": "wfkLE6vmdHUl"
      },
      "outputs": [],
      "source": [
        "import nltk\n",
        "\n",
        "nltk.download('punkt')\n",
        "nltk.download('stopwords')\n",
        "nltk.download('wordnet')\n",
        "nltk.download('omw-1.4')"
      ]
    },
    {
      "cell_type": "code",
      "source": [
        "import pandas as pd\n",
        "import numpy as np\n",
        "import scipy\n",
        "import pymorphy2\n",
        "from sklearn.feature_extraction.text import TfidfVectorizer\n",
        "from sklearn.preprocessing import OneHotEncoder\n",
        "from sklearn.neighbors import KNeighborsRegressor\n",
        "from sklearn.model_selection import GridSearchCV\n",
        "from nltk.stem import WordNetLemmatizer"
      ],
      "metadata": {
        "id": "7eZzhDxAMalO"
      },
      "execution_count": 72,
      "outputs": []
    },
    {
      "cell_type": "code",
      "execution_count": 73,
      "metadata": {
        "id": "kR0TZo-fz8Mz"
      },
      "outputs": [],
      "source": [
        "workers = pd.read_csv('/content/drive/MyDrive/Владивосток/AltGU/employees.csv')\n",
        "train = pd.read_csv('/content/drive/MyDrive/Владивосток/train_and_test_data/train_issues - train_issues.csv')\n",
        "test = pd.read_csv('/content/drive/MyDrive/Владивосток/train_and_test_data/test_issues - test_issues.csv')"
      ]
    },
    {
      "cell_type": "code",
      "execution_count": 74,
      "metadata": {
        "id": "7mHaEoSyVCNV"
      },
      "outputs": [],
      "source": [
        "train = train.drop(['id', 'created', 'key', 'project_id', 'summary'], axis=1)\n",
        "test = test.drop(['id', 'created', 'key', 'project_id', 'summary'], axis=1)"
      ]
    },
    {
      "cell_type": "code",
      "source": [
        "train = train.rename(columns={'Summary':'summary'})\n",
        "test = test.rename(columns={'translated':'summary'})"
      ],
      "metadata": {
        "id": "6mfVkcv0PJ5j"
      },
      "execution_count": 75,
      "outputs": []
    },
    {
      "cell_type": "code",
      "execution_count": 76,
      "metadata": {
        "id": "yRu-x-G2cRYs"
      },
      "outputs": [],
      "source": [
        "ids = workers['id']\n",
        "workers['position'] = workers['position'].fillna('Web-разработчик')\n",
        "workers['payment_type'] = workers['payment_type'].fillna('fixed')\n",
        "test[''] = test['summary'].fillna('NAN')\n",
        "train['summary'] = train['summary'].fillna('NAN')\n",
        "d = workers[['active', 'position', 'payment_type']].to_dict()"
      ]
    },
    {
      "cell_type": "code",
      "source": [
        "train"
      ],
      "metadata": {
        "colab": {
          "base_uri": "https://localhost:8080/",
          "height": 424
        },
        "id": "LLlN79xwaDaW",
        "outputId": "c3a02e64-d0ce-423d-daa6-b9997a114c2a"
      },
      "execution_count": 78,
      "outputs": [
        {
          "output_type": "execute_result",
          "data": {
            "text/plain": [
              "      assignee_id  creator_id  overall_worklogs  \\\n",
              "0              93          93              1800   \n",
              "1              93          93              7200   \n",
              "2              93          93             14400   \n",
              "3              93          93               900   \n",
              "4              93          93               900   \n",
              "...           ...         ...               ...   \n",
              "9584            1         116             26040   \n",
              "9585            2           2             16200   \n",
              "9586            2           2              3600   \n",
              "9587            2           2              6300   \n",
              "9588            2           2              5400   \n",
              "\n",
              "                                              summary  \n",
              "0                                UI tests \"Good Cage\"  \n",
              "1                                  UI tests \"Profile\"  \n",
              "2              UI tests of \"Personal account\" section  \n",
              "3                          UI tests of \"News\" section  \n",
              "4     UI tests of the \"Discount and Supplement\" areas  \n",
              "...                                               ...  \n",
              "9584  Make a Test To Check Teachers Pages for vn & Th  \n",
              "9585                                           Set Up  \n",
              "9586        Set Up a Graph in Neo4j by Gitlab Dataset  \n",
              "9587             PARSE A DATASET from Teacherly Slack  \n",
              "9588  Expand a Gitlab Parser by Adding Members Emails  \n",
              "\n",
              "[9589 rows x 4 columns]"
            ],
            "text/html": [
              "\n",
              "  <div id=\"df-0e9645ea-8b45-45ca-808b-3bea5e222f2b\">\n",
              "    <div class=\"colab-df-container\">\n",
              "      <div>\n",
              "<style scoped>\n",
              "    .dataframe tbody tr th:only-of-type {\n",
              "        vertical-align: middle;\n",
              "    }\n",
              "\n",
              "    .dataframe tbody tr th {\n",
              "        vertical-align: top;\n",
              "    }\n",
              "\n",
              "    .dataframe thead th {\n",
              "        text-align: right;\n",
              "    }\n",
              "</style>\n",
              "<table border=\"1\" class=\"dataframe\">\n",
              "  <thead>\n",
              "    <tr style=\"text-align: right;\">\n",
              "      <th></th>\n",
              "      <th>assignee_id</th>\n",
              "      <th>creator_id</th>\n",
              "      <th>overall_worklogs</th>\n",
              "      <th>summary</th>\n",
              "    </tr>\n",
              "  </thead>\n",
              "  <tbody>\n",
              "    <tr>\n",
              "      <th>0</th>\n",
              "      <td>93</td>\n",
              "      <td>93</td>\n",
              "      <td>1800</td>\n",
              "      <td>UI tests \"Good Cage\"</td>\n",
              "    </tr>\n",
              "    <tr>\n",
              "      <th>1</th>\n",
              "      <td>93</td>\n",
              "      <td>93</td>\n",
              "      <td>7200</td>\n",
              "      <td>UI tests \"Profile\"</td>\n",
              "    </tr>\n",
              "    <tr>\n",
              "      <th>2</th>\n",
              "      <td>93</td>\n",
              "      <td>93</td>\n",
              "      <td>14400</td>\n",
              "      <td>UI tests of \"Personal account\" section</td>\n",
              "    </tr>\n",
              "    <tr>\n",
              "      <th>3</th>\n",
              "      <td>93</td>\n",
              "      <td>93</td>\n",
              "      <td>900</td>\n",
              "      <td>UI tests of \"News\" section</td>\n",
              "    </tr>\n",
              "    <tr>\n",
              "      <th>4</th>\n",
              "      <td>93</td>\n",
              "      <td>93</td>\n",
              "      <td>900</td>\n",
              "      <td>UI tests of the \"Discount and Supplement\" areas</td>\n",
              "    </tr>\n",
              "    <tr>\n",
              "      <th>...</th>\n",
              "      <td>...</td>\n",
              "      <td>...</td>\n",
              "      <td>...</td>\n",
              "      <td>...</td>\n",
              "    </tr>\n",
              "    <tr>\n",
              "      <th>9584</th>\n",
              "      <td>1</td>\n",
              "      <td>116</td>\n",
              "      <td>26040</td>\n",
              "      <td>Make a Test To Check Teachers Pages for vn &amp; Th</td>\n",
              "    </tr>\n",
              "    <tr>\n",
              "      <th>9585</th>\n",
              "      <td>2</td>\n",
              "      <td>2</td>\n",
              "      <td>16200</td>\n",
              "      <td>Set Up</td>\n",
              "    </tr>\n",
              "    <tr>\n",
              "      <th>9586</th>\n",
              "      <td>2</td>\n",
              "      <td>2</td>\n",
              "      <td>3600</td>\n",
              "      <td>Set Up a Graph in Neo4j by Gitlab Dataset</td>\n",
              "    </tr>\n",
              "    <tr>\n",
              "      <th>9587</th>\n",
              "      <td>2</td>\n",
              "      <td>2</td>\n",
              "      <td>6300</td>\n",
              "      <td>PARSE A DATASET from Teacherly Slack</td>\n",
              "    </tr>\n",
              "    <tr>\n",
              "      <th>9588</th>\n",
              "      <td>2</td>\n",
              "      <td>2</td>\n",
              "      <td>5400</td>\n",
              "      <td>Expand a Gitlab Parser by Adding Members Emails</td>\n",
              "    </tr>\n",
              "  </tbody>\n",
              "</table>\n",
              "<p>9589 rows × 4 columns</p>\n",
              "</div>\n",
              "      <button class=\"colab-df-convert\" onclick=\"convertToInteractive('df-0e9645ea-8b45-45ca-808b-3bea5e222f2b')\"\n",
              "              title=\"Convert this dataframe to an interactive table.\"\n",
              "              style=\"display:none;\">\n",
              "        \n",
              "  <svg xmlns=\"http://www.w3.org/2000/svg\" height=\"24px\"viewBox=\"0 0 24 24\"\n",
              "       width=\"24px\">\n",
              "    <path d=\"M0 0h24v24H0V0z\" fill=\"none\"/>\n",
              "    <path d=\"M18.56 5.44l.94 2.06.94-2.06 2.06-.94-2.06-.94-.94-2.06-.94 2.06-2.06.94zm-11 1L8.5 8.5l.94-2.06 2.06-.94-2.06-.94L8.5 2.5l-.94 2.06-2.06.94zm10 10l.94 2.06.94-2.06 2.06-.94-2.06-.94-.94-2.06-.94 2.06-2.06.94z\"/><path d=\"M17.41 7.96l-1.37-1.37c-.4-.4-.92-.59-1.43-.59-.52 0-1.04.2-1.43.59L10.3 9.45l-7.72 7.72c-.78.78-.78 2.05 0 2.83L4 21.41c.39.39.9.59 1.41.59.51 0 1.02-.2 1.41-.59l7.78-7.78 2.81-2.81c.8-.78.8-2.07 0-2.86zM5.41 20L4 18.59l7.72-7.72 1.47 1.35L5.41 20z\"/>\n",
              "  </svg>\n",
              "      </button>\n",
              "      \n",
              "  <style>\n",
              "    .colab-df-container {\n",
              "      display:flex;\n",
              "      flex-wrap:wrap;\n",
              "      gap: 12px;\n",
              "    }\n",
              "\n",
              "    .colab-df-convert {\n",
              "      background-color: #E8F0FE;\n",
              "      border: none;\n",
              "      border-radius: 50%;\n",
              "      cursor: pointer;\n",
              "      display: none;\n",
              "      fill: #1967D2;\n",
              "      height: 32px;\n",
              "      padding: 0 0 0 0;\n",
              "      width: 32px;\n",
              "    }\n",
              "\n",
              "    .colab-df-convert:hover {\n",
              "      background-color: #E2EBFA;\n",
              "      box-shadow: 0px 1px 2px rgba(60, 64, 67, 0.3), 0px 1px 3px 1px rgba(60, 64, 67, 0.15);\n",
              "      fill: #174EA6;\n",
              "    }\n",
              "\n",
              "    [theme=dark] .colab-df-convert {\n",
              "      background-color: #3B4455;\n",
              "      fill: #D2E3FC;\n",
              "    }\n",
              "\n",
              "    [theme=dark] .colab-df-convert:hover {\n",
              "      background-color: #434B5C;\n",
              "      box-shadow: 0px 1px 3px 1px rgba(0, 0, 0, 0.15);\n",
              "      filter: drop-shadow(0px 1px 2px rgba(0, 0, 0, 0.3));\n",
              "      fill: #FFFFFF;\n",
              "    }\n",
              "  </style>\n",
              "\n",
              "      <script>\n",
              "        const buttonEl =\n",
              "          document.querySelector('#df-0e9645ea-8b45-45ca-808b-3bea5e222f2b button.colab-df-convert');\n",
              "        buttonEl.style.display =\n",
              "          google.colab.kernel.accessAllowed ? 'block' : 'none';\n",
              "\n",
              "        async function convertToInteractive(key) {\n",
              "          const element = document.querySelector('#df-0e9645ea-8b45-45ca-808b-3bea5e222f2b');\n",
              "          const dataTable =\n",
              "            await google.colab.kernel.invokeFunction('convertToInteractive',\n",
              "                                                     [key], {});\n",
              "          if (!dataTable) return;\n",
              "\n",
              "          const docLinkHtml = 'Like what you see? Visit the ' +\n",
              "            '<a target=\"_blank\" href=https://colab.research.google.com/notebooks/data_table.ipynb>data table notebook</a>'\n",
              "            + ' to learn more about interactive tables.';\n",
              "          element.innerHTML = '';\n",
              "          dataTable['output_type'] = 'display_data';\n",
              "          await google.colab.output.renderOutput(dataTable, element);\n",
              "          const docLink = document.createElement('div');\n",
              "          docLink.innerHTML = docLinkHtml;\n",
              "          element.appendChild(docLink);\n",
              "        }\n",
              "      </script>\n",
              "    </div>\n",
              "  </div>\n",
              "  "
            ]
          },
          "metadata": {},
          "execution_count": 78
        }
      ]
    },
    {
      "cell_type": "code",
      "execution_count": 87,
      "metadata": {
        "id": "vb7yfBMVeECv"
      },
      "outputs": [],
      "source": [
        "patterns = \"[!#$%&'()*+,./:;<=>?@[\\]^_`{|}~—\\\"\\]+-0123456789\"\n",
        "table = dict()\n",
        "for el in patterns:\n",
        "  table[ord(el)] = ' '\n",
        "stop = nltk.corpus.stopwords.words(\"english\")\n",
        "stemmer = WordNetLemmatizer()\n",
        "\n",
        "def lemmatize(doc):\n",
        "  doc = doc.translate(table)\n",
        "  tokens = [stemmer.lemmatize(word).lower() for word in doc.split()]\n",
        "  tokens = [word for word in tokens if word not in stop]\n",
        "  return ' '.join(tokens)\n",
        "\n",
        "test['summary'] = test['summary'].apply(lemmatize)\n",
        "train['summary'] = train['summary'].apply(lemmatize)"
      ]
    },
    {
      "cell_type": "code",
      "source": [
        "train"
      ],
      "metadata": {
        "id": "d0sCTe3ZYy8a"
      },
      "execution_count": null,
      "outputs": []
    },
    {
      "cell_type": "code",
      "execution_count": 89,
      "metadata": {
        "id": "YEQ7PBW1eMiC"
      },
      "outputs": [],
      "source": [
        "texts = pd.concat([test['summary'], train['summary']])\n",
        "vectorizer = TfidfVectorizer()\n",
        "vectorizer.fit(texts)\n",
        "\n",
        "train_texts = vectorizer.transform(train['summary'])\n",
        "test_texts = vectorizer.transform(test['summary'])"
      ]
    },
    {
      "cell_type": "code",
      "source": [
        "def GetOneHotDataEncodingData(data1, data2):\n",
        "  ONE = OneHotEncoder()\n",
        "  ONE.fit(pd.concat([data1, data2]))\n",
        "  return (ONE.transform(data1), ONE.transform(data2))\n",
        "\n",
        "\n",
        "train_assignee, test_assignee = GetOneHotDataEncodingData(train[['assignee_id']], test[['assignee_id']])"
      ],
      "metadata": {
        "id": "Hw_amCAjKYx6"
      },
      "execution_count": 90,
      "outputs": []
    },
    {
      "cell_type": "code",
      "source": [
        "X = pd.DataFrame(scipy.sparse.hstack([train_assignee, train_texts]).toarray())\n",
        "X_test = pd.DataFrame(scipy.sparse.hstack([test_assignee, test_texts]).toarray())\n",
        "y = train['overall_worklogs']"
      ],
      "metadata": {
        "id": "BmDPAutiMWTR"
      },
      "execution_count": 91,
      "outputs": []
    },
    {
      "cell_type": "code",
      "execution_count": 97,
      "metadata": {
        "id": "ppIwdApY7hyj"
      },
      "outputs": [],
      "source": [
        "model = KNeighborsRegressor()\n",
        "model_for_predict = KNeighborsRegressor(n_neighbors=13, metric='cosine', \n",
        "                                        algorithm='brute', weights='uniform')"
      ]
    },
    {
      "cell_type": "code",
      "source": [
        "parameters = {'n_neighbors': list(range(2, 14, 2)),\n",
        "              'metric': ['cosine', 'minkowski'],\n",
        "              'algorithm': ['brute', 'auto'], \n",
        "              'weights': ['distance', 'uniform']}\n",
        "Grid = GridSearchCV(estimator=model_knn, param_grid=parameters, cv=5, n_jobs=-1)\n",
        "Grid.fit(X, y)"
      ],
      "metadata": {
        "colab": {
          "base_uri": "https://localhost:8080/"
        },
        "id": "x_2ZfGEJ3QrT",
        "outputId": "7d91a80c-495b-4830-fdb6-edfdaabfdfc5"
      },
      "execution_count": 24,
      "outputs": [
        {
          "output_type": "execute_result",
          "data": {
            "text/plain": [
              "GridSearchCV(cv=5, estimator=KNeighborsRegressor(), n_jobs=-1,\n",
              "             param_grid={'algorithm': ['brute', 'auto'],\n",
              "                         'metric': ['cosine', 'minkowski'],\n",
              "                         'n_neighbors': [2, 4, 6, 8, 10, 12],\n",
              "                         'weights': ['distance', 'uniform']})"
            ]
          },
          "metadata": {},
          "execution_count": 24
        }
      ]
    },
    {
      "cell_type": "code",
      "source": [
        "Grid.best_params_"
      ],
      "metadata": {
        "colab": {
          "base_uri": "https://localhost:8080/"
        },
        "id": "bc-Tte-L6TsX",
        "outputId": "f20ba491-27f9-455f-ce24-15bfd7e6f0b9"
      },
      "execution_count": 25,
      "outputs": [
        {
          "output_type": "execute_result",
          "data": {
            "text/plain": [
              "{'algorithm': 'brute',\n",
              " 'metric': 'cosine',\n",
              " 'n_neighbors': 12,\n",
              " 'weights': 'uniform'}"
            ]
          },
          "metadata": {},
          "execution_count": 25
        }
      ]
    },
    {
      "cell_type": "code",
      "source": [
        "from sklearn.utils import shuffle\n",
        "from sklearn.model_selection import cross_validate\n",
        "\n",
        "result = cross_validate(model_for_predict, X, y, cv=5, scoring='r2')\n",
        "print(result['test_score'])\n",
        "print(result['test_score'].mean())"
      ],
      "metadata": {
        "colab": {
          "base_uri": "https://localhost:8080/"
        },
        "id": "dNg_g2-UUngC",
        "outputId": "0ca15664-bf62-44c4-ceee-41d0325bf890"
      },
      "execution_count": 98,
      "outputs": [
        {
          "output_type": "stream",
          "name": "stdout",
          "text": [
            "[-0.14105567  0.06547635 -0.10990927 -5.41506659 -0.83817559]\n",
            "-1.287746154219482\n"
          ]
        }
      ]
    },
    {
      "cell_type": "code",
      "source": [
        "model_for_predict.fit(X, y)\n",
        "result = model_for_predict.predict(X_test)\n",
        "result"
      ],
      "metadata": {
        "colab": {
          "base_uri": "https://localhost:8080/"
        },
        "id": "t8NZhFAlB_AU",
        "outputId": "fa8258c5-0748-4b1d-80b1-4c63c966ba12"
      },
      "execution_count": 100,
      "outputs": [
        {
          "output_type": "execute_result",
          "data": {
            "text/plain": [
              "array([10315.38461538,  9715.38461538, 26400.        , ...,\n",
              "        7938.46153846, 12650.76923077,  6221.53846154])"
            ]
          },
          "metadata": {},
          "execution_count": 100
        }
      ]
    },
    {
      "cell_type": "code",
      "execution_count": null,
      "metadata": {
        "id": "LGmn_ELVCGkp"
      },
      "outputs": [],
      "source": [
        "df_result = pd.read_csv('/content/drive/MyDrive/Владивосток/AltGU/sample_solution.csv')\n",
        "df_result['overall_worklogs'] = result\n",
        "df_result.to_csv('/content/drive/MyDrive/Владивосток/ans.csv', index=False)\n",
        "df_result"
      ]
    }
  ],
  "metadata": {
    "colab": {
      "provenance": [],
      "mount_file_id": "15G71RKyhlp-PxbIos9O4WLLTmSxUV67j",
      "authorship_tag": "ABX9TyNNZG4Sp1a0iZ5cKZPeSsC+",
      "include_colab_link": true
    },
    "kernelspec": {
      "display_name": "Python 3",
      "name": "python3"
    },
    "language_info": {
      "name": "python"
    }
  },
  "nbformat": 4,
  "nbformat_minor": 0
}